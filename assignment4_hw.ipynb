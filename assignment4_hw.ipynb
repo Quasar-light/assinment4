{
 "cells": [
  {
   "attachments": {},
   "cell_type": "markdown",
   "metadata": {},
   "source": [
    "# Coding Temple's Data Analytics Program\n",
    "---\n",
    "## Python Basics Assignment 4\n",
    "---"
   ]
  },
  {
   "attachments": {},
   "cell_type": "markdown",
   "metadata": {},
   "source": [
    "### **Task 1: Update Shopping Cart**\n",
    "Using the shopping cart you created yesterday as a blueprint, create a shopping cart using object-oriented programming. This shopping cart should maintain all functionality that you currently have in your blueprint."
   ]
  },
  {
   "cell_type": "code",
   "execution_count": null,
   "metadata": {},
   "outputs": [],
   "source": [
    "# YOUR CODE HERE\n",
    "\n",
    "class OnlinesShop:\n",
    "#digital shopping cart with items inside\n",
    "#attributes for the class:\n",
    "#items: items and quanity placed inside of list\n",
    "#Methods for class:\n",
    "#Methods for class:\n",
    "\"\"\"Initialize: self.items attribute as an empty list\n",
    "\n",
    "add_to_cart: try to add items to a cart only if the quantity is a positive int\n",
    "clear_cart: empty the entire cart\n",
    "view_cart: prints all items in cart and quantities\n",
    "checkout: print all existing cart and totals\n",
    "\"\"\"\n",
    "\n",
    "def __int__(self):\n",
    "    self.items = []\n",
    "\n",
    "def add_to_cart(self, item_name:str, qty:int):\n",
    "    #trys to add items to the cart if qty is positive int\n",
    "\n",
    "    try:\n",
    "        if int(qty) > 0:\n",
    "            item = (item_name, qty)\n",
    "            self.items.append(item)\n",
    "        else:\n",
    "            print('QTY MUST be a positive integer value')\n",
    "\n",
    "    except:\n",
    "        print(\"QTY MUST be a psoitive integer value\")\n",
    "\n",
    "    def remove_from_cart(self, item_name):\n",
    "        #remove an item from the art otherwise informs my user to check the cart\n",
    "\n",
    "        if item_name not in [item[0] for item in self.items]:\n",
    "            print(\"Item was not found! Please double check your cart!\")\n",
    "        for item in self.items:\n",
    "            if item[0] == item_name:\n",
    "                self.items.remove(item)\n",
    "                self.view_cart()\n",
    "\n",
    "                break\n",
    "\n",
    "    def clear_cart(self):\n",
    "        #empty the cart\n",
    "        self.items.clear()\n",
    "    \n",
    "    def view_cart(self):\n",
    "        #close teh cart and return to item in it\n",
    "        for items in self.items:\n",
    "            print(str(items))\n",
    "\n",
    "\n",
    "#dictionary\n",
    "cart_items = {\"items1\" : [\"mango\"]}\n",
    "\n",
    "#adding more than one value to a single key\n",
    "cart_items[\"items1\"] += [\"bread\", \"pizza\", \"cake\"]\n",
    "\n",
    "see_cart = input(\"Enter yes to see items in cart.\")\n",
    "\n",
    "#nested loop through dictionary\n",
    "if see_cart == \"yes\":\n",
    "    for value in cart_items.values():\n",
    "        print(value)\n",
    "\n",
    "#add a free item  \n",
    "add_item = input(\"You won a FREE item! What would you like?\")\n",
    "\n",
    "cart_items[\"items1\"] += [add_item]\n",
    "\n",
    "for cart_items in cart_items.values():\n",
    "    print(\"Added! Check your cart below!\", cart_items)\n",
    "\n",
    "#delete an item\n",
    "deleted_item = input(\"Woah! Cart full, Enter a number to delete an item?\")\n",
    "\n",
    "deleted_item = cart_items.pop()\n",
    "\n",
    "print(deleted_item, \"deleted!\" , cart_items)\n",
    "\n",
    "done = input(\"Enter quit to finish up!\")\n",
    "\n",
    "if done == \"quit\":\n",
    "    print(\"Have a great day\")"
   ]
  },
  {
   "cell_type": "markdown",
   "metadata": {},
   "source": [
    "class OnlinesShop:\n",
    "\n",
    "    \"\"\"\"This is a digital shopping cart with items already inside! Try it out!\"\"\"\n",
    "\n",
    "#Initialize self.items as an empty list\n",
    "    def __int__(self, cart_items, see_cart, add_):\n",
    "        self.items = {}\n",
    "        \n",
    "cart_items = {\"items1\" : [\"mango\"]}\n",
    "\n",
    "#adding more than one value to a single key\n",
    "cart_items[\"items1\"] += [\"bread\", \"pizza\", \"cake\"]\n",
    "\n",
    "see_cart = input(\"Enter yes to see items in cart.\")\n",
    "\n",
    "if see_cart == \"yes\":\n",
    "    for value in cart_items.values():\n",
    "        print(value)\n",
    "\n"
   ]
  },
  {
   "attachments": {},
   "cell_type": "markdown",
   "metadata": {},
   "source": [
    "### **Task 2: String Class**\n",
    "Write a class which has the following two methods:\n",
    "* `get_string`: Accepts a string input from the user\n",
    "* `print_string`: Prints the string all in upper-case"
   ]
  },
  {
   "cell_type": "code",
   "execution_count": null,
   "metadata": {},
   "outputs": [],
   "source": [
    "# YOUR CODE HERE"
   ]
  },
  {
   "attachments": {},
   "cell_type": "markdown",
   "metadata": {},
   "source": [
    "### **Task 3: Activities**\n",
    "Create a class that depicts your favorite activity. Add in attributes that are associated with that activity in you `__init__` call. Also, create three functions that are associated with the activity.\n",
    "\n",
    "**Example:**\n",
    "If I chose football, I may have a FootballPlayer class with attributes such as:\n",
    "* `self.speed`\n",
    "* `self.strength`\n",
    "* `self.position`\n",
    "\n",
    "and methods such as:\n",
    "* `def pass_ball`\n",
    "* `def run`\n",
    "* `def faster_than_x`"
   ]
  },
  {
   "cell_type": "code",
   "execution_count": null,
   "metadata": {},
   "outputs": [],
   "source": []
  },
  {
   "attachments": {},
   "cell_type": "markdown",
   "metadata": {},
   "source": [
    "### **Task 4: Test Your Class!**\n",
    "Now that you created your class, let's create an instance of your class. In the cell below, instantiate a Class Object, then test each of your class methods on that object."
   ]
  },
  {
   "cell_type": "code",
   "execution_count": null,
   "metadata": {},
   "outputs": [],
   "source": [
    "cart = digital(\n",
    "    cart.add_to_cart\n",
    ")"
   ]
  }
 ],
 "metadata": {
  "kernelspec": {
   "display_name": "Python 3",
   "language": "python",
   "name": "python3"
  },
  "language_info": {
   "codemirror_mode": {
    "name": "ipython",
    "version": 3
   },
   "file_extension": ".py",
   "mimetype": "text/x-python",
   "name": "python",
   "nbconvert_exporter": "python",
   "pygments_lexer": "ipython3",
   "version": "3.11.4"
  },
  "orig_nbformat": 4,
  "vscode": {
   "interpreter": {
    "hash": "26de051ba29f2982a8de78e945f0abaf191376122a1563185a90213a26c5da77"
   }
  }
 },
 "nbformat": 4,
 "nbformat_minor": 2
}
